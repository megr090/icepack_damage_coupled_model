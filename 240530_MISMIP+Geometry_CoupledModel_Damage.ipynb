{
 "cells": [
  {
   "cell_type": "markdown",
   "id": "6becf8db-1ae4-4f23-b58e-51adc3d3c3ba",
   "metadata": {},
   "source": [
    "# Coupled Model: Damage/Flow\n",
    "We develop a coupled damage model, which has options to couple damage to flow, depending on user input. We apply this to the MISMIP+ geometry."
   ]
  },
  {
   "cell_type": "code",
   "execution_count": null,
   "id": "e17b9bda-ef82-45be-a155-13ef4f7b7fcf",
   "metadata": {},
   "outputs": [],
   "source": [
    "# import everything\n",
    "import firedrake\n",
    "from firedrake import exp, conditional, max_value, sqrt, sym, grad, tr, det, interpolate, Constant, sin, cos, dx, inner, as_vector, tanh\n",
    "import icepack\n",
    "import matplotlib.pyplot as plt\n",
    "import icepack.plot\n",
    "import numpy as np\n",
    "import cmocean\n",
    "from icepack.constants import (\n",
    "    ice_density as rho_i,\n",
    "    water_density as rho_w,\n",
    "    gravity as g,\n",
    "    weertman_sliding_law as m,\n",
    "    glen_flow_law as n,\n",
    ")\n",
    "from icepack.models.hybrid import horizontal_strain_rate, vertical_strain_rate, stresses\n",
    "import tqdm\n",
    "from operator import itemgetter"
   ]
  },
  {
   "cell_type": "markdown",
   "id": "59667065-0737-47ac-b1df-3644b5959fdd",
   "metadata": {},
   "source": [
    "## Define a bunch of functions"
   ]
  },
  {
   "cell_type": "markdown",
   "id": "9bc37e89-bfc9-42e6-8ebb-fff522aa3119",
   "metadata": {},
   "source": [
    "### Geometry Functions"
   ]
  },
  {
   "cell_type": "code",
   "execution_count": null,
   "id": "5f1040ef-b7dc-4cfa-94fe-6215da8df286",
   "metadata": {},
   "outputs": [],
   "source": [
    "def mismip_bed_2d(mesh):\n",
    "\n",
    "    \"\"\"\n",
    "    This function defines the bed geometry based on MISMIP+\n",
    "    \n",
    "    Inputs: \n",
    "    ----------\n",
    "    mesh: 2D mesh \n",
    "    \n",
    "    Outputs: \n",
    "    ----------\n",
    "    bed elevation\n",
    "    \n",
    "    \"\"\"\n",
    "    x, y = firedrake.SpatialCoordinate(mesh)\n",
    "\n",
    "    x_c = Constant(300e3)\n",
    "    X = x / x_c\n",
    "\n",
    "    B_0 = Constant(-150)\n",
    "    B_2 = Constant(-728.8)\n",
    "    B_4 = Constant(343.91)\n",
    "    B_6 = Constant(-50.57)\n",
    "    B_x = B_0 + B_2 * X**2 + B_4 * X**4 + B_6 * X**6\n",
    "\n",
    "    f_c = Constant(4e3)\n",
    "    d_c = Constant(500)\n",
    "    w_c = Constant(24e3)\n",
    "\n",
    "    B_y = d_c * (\n",
    "        1 / (1 + exp(-2 * (y - Ly / 2 - w_c) / f_c)) +\n",
    "        1 / (1 + exp(+2 * (y - Ly / 2 + w_c) / f_c))\n",
    "    )\n",
    "\n",
    "    z_deep = Constant(-720)\n",
    "    \n",
    "    return max_value(B_x + B_y, z_deep)\n",
    "    \n",
    "def mismip_bed_3d(mesh):\n",
    "\n",
    "    \"\"\"\n",
    "    This function defines the bed geometry based on MISMIP+\n",
    "    \n",
    "    Inputs: \n",
    "    ----------\n",
    "    mesh: 2D mesh \n",
    "    \n",
    "    Outputs: \n",
    "    ----------\n",
    "    bed elevation\n",
    "    \n",
    "    \"\"\"\n",
    "    x, y,ζ = firedrake.SpatialCoordinate(mesh)\n",
    "\n",
    "    x_c = Constant(300e3)\n",
    "    X = x / x_c\n",
    "\n",
    "    B_0 = Constant(-150)\n",
    "    B_2 = Constant(-728.8)\n",
    "    B_4 = Constant(343.91)\n",
    "    B_6 = Constant(-50.57)\n",
    "    B_x = B_0 + B_2 * X**2 + B_4 * X**4 + B_6 * X**6\n",
    "\n",
    "    f_c = Constant(4e3)\n",
    "    d_c = Constant(500)\n",
    "    w_c = Constant(24e3)\n",
    "\n",
    "    B_y = d_c * (\n",
    "        1 / (1 + exp(-2 * (y - Ly / 2 - w_c) / f_c)) +\n",
    "        1 / (1 + exp(+2 * (y - Ly / 2 + w_c) / f_c))\n",
    "    )\n",
    "\n",
    "    z_deep = Constant(-720)\n",
    "    \n",
    "    return max_value(B_x + B_y, z_deep)"
   ]
  },
  {
   "cell_type": "markdown",
   "id": "be15b06a-cced-47fb-8d83-7116d7dfdef3",
   "metadata": {},
   "source": [
    "### Model Parameterization Functions"
   ]
  },
  {
   "cell_type": "code",
   "execution_count": null,
   "id": "82071a77-3b83-469b-8ead-8a703a17ad7c",
   "metadata": {},
   "outputs": [],
   "source": [
    "def friction(**kwargs):\n",
    "    \"\"\"\n",
    "    This function defines a Weertman-style sliding law\n",
    "    \n",
    "    Inputs: \n",
    "    ----------\n",
    "    velocity, thickness, surface elevation, friction coefficient C \n",
    "    \n",
    "    Outputs: \n",
    "    ----------\n",
    "    basal stress\n",
    "    \n",
    "    \"\"\"\n",
    "    variables = ('velocity', 'thickness', 'surface', 'friction')\n",
    "    u, h, s, C = map(kwargs.get, variables)\n",
    "\n",
    "    p_W = rho_w * g * max_value(0, -(s - h))\n",
    "    p_I = rho_i * g * h\n",
    "    N = max_value(0, p_I - p_W)\n",
    "    τ_c = N / 2\n",
    "\n",
    "    u_c = (τ_c / C)**m\n",
    "    u_b = sqrt(inner(u, u))\n",
    "\n",
    "    return τ_c * (\n",
    "        (u_c**(1/m + 1) + u_b**(1/m + 1))**(m / (m + 1)) - u_c\n",
    "    )\n",
    "\n",
    "from icepack.models.viscosity import viscosity_depth_averaged\n",
    "def viscosity_damaged(**kwargs):\n",
    "    u = kwargs[\"velocity\"]\n",
    "    h = kwargs[\"thickness\"]\n",
    "    A = kwargs[\"fluidity\"]\n",
    "    D = kwargs[\"damage\"]\n",
    "    return viscosity_depth_averaged(\n",
    "        velocity=u,\n",
    "        thickness=h,\n",
    "        fluidity=(1 - D)**(-n) * A,\n",
    "    )"
   ]
  },
  {
   "cell_type": "markdown",
   "id": "b759c598-2dba-44d2-a38b-4e040530af8b",
   "metadata": {},
   "source": [
    "### Damage Model Functions"
   ]
  },
  {
   "cell_type": "code",
   "execution_count": null,
   "id": "fa93ea40-bf8d-400e-87a9-32b1c47a9fc3",
   "metadata": {},
   "outputs": [],
   "source": [
    "from icepack.models.diagnostic_damage_transport import calcAdvectionDiagnosticDamage, calcStressThreshold"
   ]
  },
  {
   "cell_type": "markdown",
   "id": "05e6ea96-5f65-4c36-bb48-749912e3753b",
   "metadata": {},
   "source": [
    "### Other Functions"
   ]
  },
  {
   "cell_type": "code",
   "execution_count": null,
   "id": "852d30f9-cd87-4e95-952b-70ade41c8b45",
   "metadata": {},
   "outputs": [],
   "source": [
    "from icepack.mask_smooth_functions import flotationHeight, flotationMask, firedrakeSmooth\n",
    "def mismip_meltfcn(omega,surface,thickness,bed):\n",
    "    \n",
    "    \"\"\"\n",
    "    This function calculates the basal melting rate by the parameterization in Asay-Davis et al. 2016.\n",
    "    \n",
    "    Inputs: \n",
    "    ----------\n",
    "    omega: parameter in melting parameterization (1/yr)\n",
    "    surface: 2D surface elevation field (m)\n",
    "    thickness: 2D thickness field (m)\n",
    "    bed: 2D bed elevation field (m)\n",
    "    \n",
    "    Outputs: \n",
    "    ----------\n",
    "    -mdot: melt rate (negative to feed into SMB)\n",
    "    \"\"\"\n",
    "    \n",
    "    Q = thickness.function_space()\n",
    "\n",
    "    zF = flotationHeight(bed,Q)\n",
    "    floating,grounded = flotationMask(surface,zF,Q)\n",
    "    zd = ((surface-thickness))*floating\n",
    "    Hc = (zd-bed)*floating\n",
    "    \n",
    "    Hc0 = 75\n",
    "    z0 = -100\n",
    "    \n",
    "    mdot = omega*tanh(Hc/Hc0)*max_value(z0-zd,0)\n",
    "    \n",
    "    return -mdot"
   ]
  },
  {
   "cell_type": "markdown",
   "id": "34b3d8c8-f3cf-4142-ad74-8a409826fa32",
   "metadata": {},
   "source": [
    "### Run Function"
   ]
  },
  {
   "cell_type": "code",
   "execution_count": null,
   "id": "027e4093-827c-4696-8743-3d54f5603ad5",
   "metadata": {},
   "outputs": [],
   "source": [
    "def run_simulation(couplings,solver,final_time,dt,bed,u,s,h,Aglen2,C,omega,smb,num_layers_D,D2_initial,σ_t,criterion,Dmax):\n",
    "    \n",
    "    \"\"\"\n",
    "    This function evolves flow with various couplings, including: damage, temperature, grain size. This includes an option for basal melting.\n",
    "    \n",
    "    Inputs: \n",
    "    ----------\n",
    "    couplings: a dictionary of coupling options, user-defined\n",
    "    solver: flow solver\n",
    "    final_time: total amount of time to run the simulation for (yrs)\n",
    "    dt: timestep (yrs)\n",
    "    bed: bed elevation (2D) (m)\n",
    "    u: 2D initial velocity (m/yr)\n",
    "    s: 2D initial surface elevation (m)\n",
    "    h: 2D initial thickness (m)\n",
    "    Aglen2: fluidity on 2d mesh\n",
    "    C: friction coefficient\n",
    "    omega: scaling for basal melt rate\n",
    "    smb: surface accumulation rate (m/yr)\n",
    "\n",
    "    Parameters for Damage Model:\n",
    "        num_layers_D: number of z layers for damage model\n",
    "        D2_initial: initial (2D) damage field\n",
    "        σ_t: threshold \n",
    "        criterion: the stress criterion for damage (options = vms for von Mises \n",
    "            stress, mps for maximum principal stress, hayhurst for the Hayhurst stress)\n",
    "    Dmax: maximum value for damage fields\n",
    "            \n",
    "    Outputs: \n",
    "    ----------\n",
    "    h_save: an array of thicknesses at each timestep\n",
    "    u_save: an array of velocities at each timestep\n",
    "    s_save: an array of elevations at each timestep\n",
    "    gs_save: an array of (2D) grain sizes at each timestep\n",
    "    D_save: an array of (3D) damage fields at each timestep\n",
    "    E_save: an array of (3D) energy density fields at each timestep\n",
    "    \"\"\"\n",
    "\n",
    "    num_steps = int(final_time / dt)\n",
    "    progress_bar = tqdm.trange(num_steps)\n",
    "\n",
    "    h_0 = h\n",
    "\n",
    "    Q2 = h.function_space()\n",
    "    V2 = u.function_space()\n",
    "\n",
    "    D2 = D2_initial.copy(deepcopy=True)\n",
    "\n",
    "    D_save = []\n",
    "    u_save = []\n",
    "    s_save = []\n",
    "    h_save = []\n",
    "\n",
    "    for step in progress_bar:\n",
    "\n",
    "        melt = mismip_meltfcn(omega,s,h,bed)\n",
    "        a = interpolate(melt+smb, Q2)\n",
    "\n",
    "        \"\"\" calculate thickness and velocity \"\"\"\n",
    "        h = solver.prognostic_solve(\n",
    "            dt,\n",
    "            thickness=h,\n",
    "            velocity=u,\n",
    "            accumulation=a,\n",
    "            thickness_inflow=h_0\n",
    "        )\n",
    "        s = icepack.compute_surface(thickness=h, bed=bed)\n",
    "\n",
    "        u = solver.diagnostic_solve(\n",
    "            velocity=u,\n",
    "            thickness=h,\n",
    "            surface=s,\n",
    "            fluidity=Aglen2,\n",
    "            friction=C,\n",
    "            damage=D2,\n",
    "        )\n",
    "\n",
    "\n",
    "        \"\"\" calculate damage as a function of sigma_t(d), temperature \"\"\"\n",
    "        if couplings['stress_to_damage']:\n",
    "            D2 = calcAdvectionDiagnosticDamage(\n",
    "                dt = dt,\n",
    "                velocity = u,\n",
    "                thickness = h,\n",
    "                surface = s,\n",
    "                fluidity = Aglen2,\n",
    "                num_layers = num_layers_D,\n",
    "                criterion = criterion,\n",
    "                threshold = σ_t,\n",
    "                Dold = D2,\n",
    "                Dmax = Dmax\n",
    "            )\n",
    "\n",
    "        \"\"\" save fields \"\"\"\n",
    "        h_save.append(h)\n",
    "        u_save.append(u)\n",
    "        s_save.append(s)\n",
    "        D_save.append(D2)\n",
    "\n",
    "        min_h = h.dat.data_ro.min()\n",
    "        avg_h = firedrake.assemble(h * dx) / area\n",
    "        description = f\"avg, min h: {avg_h:4.2f}, {min_h:4.2f}\"\n",
    "        progress_bar.set_description(description)\n",
    "\n",
    "    return h_save, u_save, s_save, D_save"
   ]
  },
  {
   "cell_type": "markdown",
   "id": "91d7a801-f00f-4058-9bf2-e2ec2ca4a084",
   "metadata": {},
   "source": [
    "## Set up Model geometry"
   ]
  },
  {
   "cell_type": "markdown",
   "id": "88aaeed6-7a4a-45c8-85c3-36b15e57326a",
   "metadata": {},
   "source": [
    "Input the starting point and define the basic geometry."
   ]
  },
  {
   "cell_type": "code",
   "execution_count": null,
   "id": "3033e048-d594-4951-beff-6387bb6a8d9a",
   "metadata": {},
   "outputs": [],
   "source": [
    "# set up model geometry\n",
    "Lx, Ly = 640e3, 80e3\n",
    "ny = 10\n",
    "nx = int(Lx/Ly)*ny\n",
    "area = Lx*Ly\n",
    "\n",
    "with firedrake.CheckpointFile(\"231114_MISMIP+Geometry_SteadyState_MeshRefinementMethod_4500yr_1refinement.h5\",'r') as checkpoint:\n",
    "    mesh2 = checkpoint.load_mesh('firedrake_default')\n",
    "    u_ss = checkpoint.load_function(mesh2,\"velocity\")\n",
    "    h_ss = checkpoint.load_function(mesh2,\"thickness\")\n",
    "    s_ss = checkpoint.load_function(mesh2,\"surface\")"
   ]
  },
  {
   "cell_type": "markdown",
   "id": "8e632cf2-d9ae-46a8-af6c-b8268bdaac9e",
   "metadata": {},
   "source": [
    "Define function spaces and bed on 2D mesh"
   ]
  },
  {
   "cell_type": "code",
   "execution_count": null,
   "id": "66cc0521-0a68-44e3-8265-86c4f4431dfb",
   "metadata": {},
   "outputs": [],
   "source": [
    "Q2 = firedrake.FunctionSpace(mesh2, family='CG', degree=2)\n",
    "V2 = firedrake.VectorFunctionSpace(mesh2, family='CG', degree=2)\n",
    "bed2 = interpolate(mismip_bed_2d(mesh2), Q2)"
   ]
  },
  {
   "cell_type": "markdown",
   "id": "03e5e0c6-62ff-4797-b3d2-841b3f49cc67",
   "metadata": {},
   "source": [
    "Extrude the mesh for the damage solver."
   ]
  },
  {
   "cell_type": "code",
   "execution_count": null,
   "id": "28d7c09e-8c45-4d4c-bffe-bd3bc73725a3",
   "metadata": {},
   "outputs": [],
   "source": [
    "num_layers_D = 20\n",
    "mesh3D = firedrake.ExtrudedMesh(mesh2, layers=num_layers_D)\n",
    "\n",
    "Q3D = firedrake.FunctionSpace(mesh3D, family='CG', degree=2, vfamily='DG', vdegree=0)\n",
    "V3D = firedrake.VectorFunctionSpace(mesh3D, dim=2, family='CG', degree=2, vfamily='GL', vdegree=0)\n",
    "\n",
    "bed3D = interpolate(mismip_bed_3d(mesh3D), Q3D)"
   ]
  },
  {
   "cell_type": "markdown",
   "id": "9fc3abb8-d1b4-4433-a2fe-d250369d1fd7",
   "metadata": {},
   "source": [
    "## Define the model"
   ]
  },
  {
   "cell_type": "code",
   "execution_count": null,
   "id": "bdd0bdfa-7c5a-4ad1-b65d-72380ff20b8d",
   "metadata": {},
   "outputs": [],
   "source": [
    "# define flow model with damage\n",
    "flow_model = icepack.models.IceStream(friction=friction,viscosity=viscosity_damaged)\n",
    "opts = {\n",
    "    'dirichlet_ids': [1],\n",
    "    'side_wall_ids': [3, 4],\n",
    "    'diagnostic_solver_type': 'petsc',\n",
    "    'diagnostic_solver_parameters': {\n",
    "        'snes_type': 'newtontr',\n",
    "        'ksp_type': 'preonly',\n",
    "        'pc_type': 'lu',\n",
    "        'pc_factor_mat_solver_type': 'mumps'\n",
    "    }\n",
    "}\n",
    "flow_solver = icepack.solvers.FlowSolver(flow_model, **opts)"
   ]
  },
  {
   "cell_type": "markdown",
   "id": "35ec77e9-867b-4218-b168-f67e26916a3c",
   "metadata": {},
   "source": [
    "## Initialize the model"
   ]
  },
  {
   "cell_type": "markdown",
   "id": "6d22efc2-2238-4b8b-bb06-2563865bf5bb",
   "metadata": {},
   "source": [
    "Basal Friction"
   ]
  },
  {
   "cell_type": "code",
   "execution_count": null,
   "id": "31b354ac-6619-454b-8a8d-0c5650d23a9b",
   "metadata": {},
   "outputs": [],
   "source": [
    "C = firedrake.Constant(0.01)"
   ]
  },
  {
   "cell_type": "markdown",
   "id": "77bac4fc-8560-42df-a012-5cc2c572cb03",
   "metadata": {},
   "source": [
    "Temperature"
   ]
  },
  {
   "cell_type": "code",
   "execution_count": null,
   "id": "ce29ee5b-87a0-4bf4-abe1-5e777b443dfd",
   "metadata": {},
   "outputs": [],
   "source": [
    "meltfrac = Constant(0.0)\n",
    "T = Constant(260)\n",
    "Aglen2 = interpolate(icepack.rate_factor(T),Q2)"
   ]
  },
  {
   "cell_type": "markdown",
   "id": "ecdfe699-99e4-495c-b594-35cd5903f211",
   "metadata": {},
   "source": [
    "Damage"
   ]
  },
  {
   "cell_type": "code",
   "execution_count": null,
   "id": "f7dc087e-1101-4bc7-9d3e-fdbb9826e1f2",
   "metadata": {},
   "outputs": [],
   "source": [
    "D2_initial = firedrake.Function(Q2)"
   ]
  },
  {
   "cell_type": "markdown",
   "id": "75c765f2-55fe-45fc-bd52-53ae575eb7ac",
   "metadata": {},
   "source": [
    "## Now Run Model"
   ]
  },
  {
   "cell_type": "code",
   "execution_count": null,
   "id": "e67f7d23-7312-44d5-b25a-5f0ff9f75155",
   "metadata": {},
   "outputs": [],
   "source": [
    "# simulation parameters\n",
    "final_time = 10\n",
    "dt = 0.25\n",
    "smb = Constant(0.3)\n",
    "omega = 0.2"
   ]
  },
  {
   "cell_type": "code",
   "execution_count": null,
   "id": "ab5e49a1-02a2-4c95-93d0-30f263f5e33f",
   "metadata": {},
   "outputs": [],
   "source": [
    "# Define couplings\n",
    "couplings = {'stress_to_damage': True} # damage evolution"
   ]
  },
  {
   "cell_type": "code",
   "execution_count": null,
   "id": "3ea70748-acad-4a0a-9f3e-4064e9a84180",
   "metadata": {},
   "outputs": [],
   "source": [
    "# user input parameters\n",
    "σ_t = interpolate(Constant(0.1),Q2) # stress threshold.\n",
    "criterion = 'hayhurst' # options = hayhurst, vms, mps\n",
    "Dmax = firedrake.Constant(0.79)"
   ]
  },
  {
   "cell_type": "code",
   "execution_count": null,
   "id": "8c86071d-ee32-4652-94aa-97ec3d0a448e",
   "metadata": {},
   "outputs": [],
   "source": [
    "h_save, u_save, s_save, D_save = run_simulation(\n",
    "    couplings,flow_solver,final_time,dt,bed2,\n",
    "    u_ss,s_ss,h_ss,Aglen2,C,\n",
    "    omega,smb,\n",
    "    num_layers_D,D2_initial,σ_t,criterion,Dmax\n",
    ")"
   ]
  },
  {
   "cell_type": "code",
   "execution_count": null,
   "id": "39a081c4-ef23-492b-a458-f308852e7ecd",
   "metadata": {},
   "outputs": [],
   "source": [
    "fig, axes = icepack.plot.subplots()\n",
    "colors = firedrake.tripcolor(D_save[-1], axes=axes)\n",
    "CS=plt.colorbar(colors, cmap=\"viridis\", ax=axes, orientation='horizontal')\n",
    "CS.set_label(r'Damage',fontsize=12)\n",
    "plt.tight_layout()\n",
    "plt.show()"
   ]
  },
  {
   "cell_type": "code",
   "execution_count": null,
   "id": "62340130-36ae-432d-b472-3bc580435008",
   "metadata": {},
   "outputs": [],
   "source": [
    "fig, axes = icepack.plot.subplots()\n",
    "colors = firedrake.tripcolor(firedrake.interpolate(u_save[-1],V2), axes=axes)\n",
    "CS=plt.colorbar(colors, cmap=\"viridis\", ax=axes, orientation='horizontal')\n",
    "CS.set_label(r'Velocity (m/yr)',fontsize=12)\n",
    "plt.tight_layout()\n",
    "plt.show()"
   ]
  },
  {
   "cell_type": "code",
   "execution_count": null,
   "id": "817e6d44-92a9-43a8-9203-f01c126b33dc",
   "metadata": {},
   "outputs": [],
   "source": [
    "fig, axes = icepack.plot.subplots()\n",
    "colors = firedrake.tripcolor(firedrake.interpolate(u_save[-1]-u_save[0],V2), axes=axes)\n",
    "CS=plt.colorbar(colors, cmap=\"viridis\", ax=axes, orientation='horizontal')\n",
    "CS.set_label(r'Velocity Change (m/yr)',fontsize=12)\n",
    "plt.tight_layout()\n",
    "plt.show()"
   ]
  },
  {
   "cell_type": "markdown",
   "id": "e73b9bcd-4519-41b5-a00c-6836e33d8a41",
   "metadata": {},
   "source": [
    "## Save Fields"
   ]
  },
  {
   "cell_type": "code",
   "execution_count": null,
   "id": "c4f694ae-d6a2-4ff3-afd1-934e18baf1cd",
   "metadata": {},
   "outputs": [],
   "source": [
    "us = firedrake.Function(V2, name=\"us\")\n",
    "hs = firedrake.Function(Q2, name=\"hs\")\n",
    "ss = firedrake.Function(Q2, name=\"ss\")\n",
    "Ds = firedrake.Function(Q3D, name=\"Ds\")\n",
    "\n",
    "num_steps = int(final_time / dt)\n",
    "ts = tqdm.trange(num_steps)\n",
    "with firedrake.CheckpointFile(\"CoupledDamageModel_Geometry=MISMIP+_tf=100yr_dt=0.25_omega=0.2_couplings=stress2damage_Tinitial=250K_Dinitial=0_Dmax=0.79_criterion=hayhurst_σt=0.1MPa.h5\", 'w') as checkpoint:\n",
    "    checkpoint.save_mesh(mesh2d)  \n",
    "    for i in ts:\n",
    "        us.interpolate(u_save[i])\n",
    "        checkpoint.save_function(us, idx=i)\n",
    "\n",
    "        hs.interpolate(h_save[i])\n",
    "        checkpoint.save_function(hs, idx=i)\n",
    "\n",
    "        ss.interpolate(s_save[i])\n",
    "        checkpoint.save_function(ss, idx=i)\n",
    "        \n",
    "        Ds.interpolate(D_save[i])\n",
    "        checkpoint.save_function(Ds, idx=i)\n",
    "\n"
   ]
  },
  {
   "cell_type": "code",
   "execution_count": null,
   "id": "c5107688-574d-4f7c-ad41-2f2a46a63ea0",
   "metadata": {},
   "outputs": [],
   "source": []
  }
 ],
 "metadata": {
  "kernelspec": {
   "display_name": "firedrake",
   "language": "python",
   "name": "firedrake"
  },
  "language_info": {
   "codemirror_mode": {
    "name": "ipython",
    "version": 3
   },
   "file_extension": ".py",
   "mimetype": "text/x-python",
   "name": "python",
   "nbconvert_exporter": "python",
   "pygments_lexer": "ipython3",
   "version": "3.10.12"
  }
 },
 "nbformat": 4,
 "nbformat_minor": 5
}
